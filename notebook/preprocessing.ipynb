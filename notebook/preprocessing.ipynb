{
 "cells": [
  {
   "cell_type": "markdown",
   "id": "1247ecd7",
   "metadata": {},
   "source": [
    "# Notebook used to preprocessed the data for classification task"
   ]
  },
  {
   "cell_type": "code",
   "execution_count": 1,
   "id": "f5894b20",
   "metadata": {},
   "outputs": [],
   "source": [
    "import pandas as pd\n",
    "import numpy as np\n",
    "import seaborn as sns\n",
    "import matplotlib.pyplot as plt\n",
    "import math\n",
    "import re\n",
    "from tqdm.notebook import tqdm"
   ]
  },
  {
   "cell_type": "code",
   "execution_count": 2,
   "id": "bc102686",
   "metadata": {},
   "outputs": [
    {
     "data": {
      "text/plain": [
       "(317049, 23)"
      ]
     },
     "execution_count": 2,
     "metadata": {},
     "output_type": "execute_result"
    }
   ],
   "source": [
    "data_path = '../data/preprocessed_data/atp_matches_68_24_cleaned.csv'\n",
    "data = pd.read_csv(data_path)\n",
    "data.shape"
   ]
  },
  {
   "cell_type": "code",
   "execution_count": 3,
   "id": "cbba3bca",
   "metadata": {},
   "outputs": [],
   "source": [
    "#Remove all specifc Davis tourney name\n",
    "data.loc[data['tourney_name'].str.contains('Davis'), 'tourney_name'] = 'Davis Cup'"
   ]
  },
  {
   "cell_type": "markdown",
   "id": "e3160554",
   "metadata": {},
   "source": [
    "### Create the target column"
   ]
  },
  {
   "cell_type": "code",
   "execution_count": 4,
   "id": "195ee081",
   "metadata": {},
   "outputs": [],
   "source": [
    "#Create columns for total games count\n",
    "p = r'(\\d)-(\\d)'\n",
    "games = data['score'].str.extractall(p).astype(float)\n",
    "games.columns = ['winner', 'loser']\n",
    "game_sums = games.groupby(level=0).sum()\n",
    "data['winner_games'] = game_sums['winner']\n",
    "data['loser_games'] = game_sums['loser']\n",
    "data = data.dropna()"
   ]
  },
  {
   "cell_type": "code",
   "execution_count": 5,
   "id": "3420dbc8",
   "metadata": {},
   "outputs": [],
   "source": [
    "#create a game ratio score\n",
    "data['game_ratio'] = data['winner_games'] / (data['loser_games'] + data['winner_games'])\n",
    "#If won with less game, put a really score close to 0.5\n",
    "data.loc[data['winner_games'] < data['loser_games'], 'game_ratio'] = 0.51"
   ]
  },
  {
   "cell_type": "markdown",
   "id": "09ef0a0a",
   "metadata": {},
   "source": [
    "### Anonymized Winner and Loser"
   ]
  },
  {
   "cell_type": "code",
   "execution_count": 6,
   "id": "b317a87a",
   "metadata": {},
   "outputs": [],
   "source": [
    "shuffled = np.random.rand(len(data)) < 0.5\n",
    "data['player_1_age'] = np.where(shuffled, data['winner_age'], data['loser_age'])\n",
    "data['player_2_age'] = np.where(shuffled, data['loser_age'], data['winner_age'])\n",
    "#------\n",
    "data['player_1_ht'] = np.where(shuffled, data['winner_ht'], data['loser_ht'])\n",
    "data['player_2_ht'] = np.where(shuffled, data['loser_ht'], data['winner_ht'])\n",
    "#------\n",
    "data['player_1_seed'] = np.where(shuffled, data['winner_seed'], data['loser_seed'])\n",
    "data['player_2_seed'] = np.where(shuffled, data['loser_seed'], data['winner_seed'])\n",
    "#------\n",
    "data['player_1_rank'] = np.where(shuffled, data['winner_rank'], data['loser_rank'])\n",
    "data['player_2_rank'] = np.where(shuffled, data['loser_rank'], data['winner_rank'])\n",
    "#------\n",
    "data['player_1_rank_points'] = np.where(shuffled, data['winner_rank_points'], data['loser_rank_points'])\n",
    "data['player_2_rank_points'] = np.where(shuffled, data['loser_rank_points'], data['winner_rank_points'])\n",
    "#------\n",
    "data['player_1_games'] = np.where(shuffled, data['winner_games'], data['loser_games'])\n",
    "data['player_2_games'] = np.where(shuffled, data['loser_games'], data['winner_games'])\n",
    "#------\n",
    "data['player_1_ioc'] = np.where(shuffled, data['winner_ioc'], data['loser_ioc'])\n",
    "data['player_2_ioc'] = np.where(shuffled, data['loser_ioc'], data['winner_ioc'])\n",
    "#------\n",
    "data['player_1_hand'] = np.where(shuffled, data['winner_hand'], data['loser_hand'])\n",
    "data['player_2_hand'] = np.where(shuffled, data['loser_hand'], data['winner_hand'])\n",
    "\n",
    "\n",
    "\n",
    "#Modify score for player 1 and 2\n",
    "data.loc[(data['player_2_ht'] == data['loser_ht']) & (data['player_2_rank_points'] == data['loser_rank_points']) & (data['player_2_seed'] == data['loser_seed']) & (data['player_2_age'] == data['loser_age']), 'game_ratio'] = 1 - data.loc[(data['player_2_ht'] == data['loser_ht']) & (data['player_2_rank_points'] == data['loser_rank_points']) & (data['player_2_seed'] == data['loser_seed']) & (data['player_2_age'] == data['loser_age']), 'game_ratio']\n",
    "#Remove Winner Looser columns\n",
    "data = data.drop(['winner_hand', 'loser_hand', 'winner_ioc', 'loser_ioc', 'winner_age', 'loser_age', 'winner_ht', 'loser_ht', 'winner_seed', 'loser_seed', 'winner_rank', 'loser_rank', 'winner_rank_points', 'loser_rank_points', 'winner_games', 'loser_games', ], axis=1)"
   ]
  },
  {
   "cell_type": "markdown",
   "id": "8afc0da4",
   "metadata": {},
   "source": [
    "### Encode columns"
   ]
  },
  {
   "cell_type": "code",
   "execution_count": 7,
   "id": "11db97dd",
   "metadata": {},
   "outputs": [],
   "source": [
    "one_hot_columns = ['tourney_name', 'surface', 'player_1_ioc', 'player_2_ioc', 'tourney_level', 'player_1_hand', 'player_2_hand']\n",
    "#binary_columns = []\n",
    "rankable_columns = ['round']\n",
    "\n",
    "round_dict = {'F' : 0,\n",
    "              'BR': 1,\n",
    "              'SF': 2,\n",
    "              'QF': 3,\n",
    "              'R16': 4,\n",
    "              'R32': 5,\n",
    "              'R64': 6,\n",
    "              'R128': 7, \n",
    "              'RR': 8, \n",
    "              'ER': 9,}"
   ]
  },
  {
   "cell_type": "code",
   "execution_count": 8,
   "id": "2b0e1ddf",
   "metadata": {},
   "outputs": [
    {
     "data": {
      "text/plain": [
       "(315519, 467)"
      ]
     },
     "execution_count": 8,
     "metadata": {},
     "output_type": "execute_result"
    }
   ],
   "source": [
    "for c in one_hot_columns:\n",
    "    data = pd.get_dummies(data, columns=[c])\n",
    "data['round'] = data['round'].map(round_dict)\n",
    "data.shape"
   ]
  },
  {
   "cell_type": "markdown",
   "id": "9ba88b8c",
   "metadata": {},
   "source": [
    "# Save Dataset"
   ]
  },
  {
   "cell_type": "code",
   "execution_count": 9,
   "id": "0258975f",
   "metadata": {},
   "outputs": [
    {
     "name": "stdout",
     "output_type": "stream",
     "text": [
      "(315519, 467)\n"
     ]
    }
   ],
   "source": [
    "print(data.shape)\n",
    "data.to_csv('../data/preprocessed_data/atp_matches_68_24_preprocessed.csv', index=False)"
   ]
  }
 ],
 "metadata": {
  "kernelspec": {
   "display_name": "tennis",
   "language": "python",
   "name": "python3"
  },
  "language_info": {
   "codemirror_mode": {
    "name": "ipython",
    "version": 3
   },
   "file_extension": ".py",
   "mimetype": "text/x-python",
   "name": "python",
   "nbconvert_exporter": "python",
   "pygments_lexer": "ipython3",
   "version": "3.12.9"
  }
 },
 "nbformat": 4,
 "nbformat_minor": 5
}
