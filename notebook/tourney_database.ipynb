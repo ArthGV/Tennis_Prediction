{
 "cells": [
  {
   "cell_type": "code",
   "execution_count": 1,
   "id": "d08531d9",
   "metadata": {},
   "outputs": [],
   "source": [
    "import pandas as pd\n",
    "import pandasql as ps"
   ]
  },
  {
   "cell_type": "code",
   "execution_count": 2,
   "id": "6e0ed2e7",
   "metadata": {},
   "outputs": [],
   "source": [
    "data_path = '../data/raw_data/atp_matches_68_24.csv'\n",
    "data = pd.read_csv(data_path)"
   ]
  },
  {
   "cell_type": "code",
   "execution_count": 3,
   "id": "ffca6162",
   "metadata": {},
   "outputs": [],
   "source": [
    "#Remove all specifc Davis tourney name\n",
    "data.loc[data['tourney_name'].str.contains('Davis'), 'tourney_name'] = 'Davis Cup'"
   ]
  },
  {
   "cell_type": "code",
   "execution_count": 4,
   "id": "af4de81b",
   "metadata": {},
   "outputs": [],
   "source": [
    "data = data[['tourney_id', 'tourney_name', 'surface', 'draw_size', 'tourney_level', 'best_of', 'tourney_date']]"
   ]
  },
  {
   "cell_type": "code",
   "execution_count": 5,
   "id": "871b89b4",
   "metadata": {},
   "outputs": [],
   "source": [
    "sorted_data = data.sort_values(by='tourney_date', ascending=False)\n",
    "unique_data = sorted_data.drop_duplicates(subset='tourney_name', keep='first')\n",
    "tourneys = unique_data.reset_index(drop=True)"
   ]
  },
  {
   "cell_type": "code",
   "execution_count": 6,
   "id": "9ca10798",
   "metadata": {},
   "outputs": [],
   "source": [
    "tourneys = tourneys.rename(columns={\n",
    "    \"tourney_id\": \"id\",\n",
    "    \"tourney_name\": \"name\",\n",
    "    \"tourney_level\": \"level\",\n",
    "    \"tourney_date\": \"date\"\n",
    "})"
   ]
  },
  {
   "cell_type": "code",
   "execution_count": 12,
   "id": "ad6de60a",
   "metadata": {},
   "outputs": [],
   "source": [
    "tourneys.to_csv('../data/tourney/tourneys_68_24.csv', index=False)"
   ]
  }
 ],
 "metadata": {
  "kernelspec": {
   "display_name": "tennis",
   "language": "python",
   "name": "python3"
  },
  "language_info": {
   "codemirror_mode": {
    "name": "ipython",
    "version": 3
   },
   "file_extension": ".py",
   "mimetype": "text/x-python",
   "name": "python",
   "nbconvert_exporter": "python",
   "pygments_lexer": "ipython3",
   "version": "3.12.9"
  }
 },
 "nbformat": 4,
 "nbformat_minor": 5
}
