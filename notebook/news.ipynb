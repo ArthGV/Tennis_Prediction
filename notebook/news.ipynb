{
 "cells": [
  {
   "cell_type": "code",
   "execution_count": 1,
   "id": "e1c2952b",
   "metadata": {},
   "outputs": [],
   "source": [
    "import requests\n",
    "from bs4 import BeautifulSoup"
   ]
  },
  {
   "cell_type": "code",
   "execution_count": 46,
   "id": "83ce4225",
   "metadata": {},
   "outputs": [],
   "source": [
    "HEADERS = {\n",
    "        'User-Agent': 'Mozilla/5.0 (Windows NT 10.0; Win64; x64) '\n",
    "                      'AppleWebKit/537.36 (KHTML, like Gecko) '\n",
    "                      'Chrome/114.0.0.0 Safari/537.36'\n",
    "    }\n",
    "\n",
    "def get_text_from_article(soup: BeautifulSoup, class_name: str = 'image'):\n",
    "    article = soup.find('div', class_=class_name)\n",
    "    if not article:\n",
    "        article = soup.find('div', {'class': lambda x: x and 'content' in x.lower()})\n",
    "\n",
    "    paragraphs = article.find_all('p')\n",
    "    article_text = '\\n\\n'.join([p.get_text(strip=True) for p in paragraphs])\n",
    "    return article_text\n",
    "\n",
    "def get_articles(soup: BeautifulSoup):\n",
    "    cards = soup.find_all('div', class_='atp_card')\n",
    "\n",
    "    articles = []\n",
    "    for card in cards:\n",
    "        link = card.find('a', class_='card-link')\n",
    "        if link:\n",
    "            href = link.get('href')\n",
    "            title_tag = link.find('h3', class_='title')\n",
    "            title = title_tag.text.strip() if title_tag else \"No title\"\n",
    "            article = {'title': title, 'link': href}\n",
    "            articles.append(article)\n",
    "    return articles"
   ]
  },
  {
   "cell_type": "code",
   "execution_count": null,
   "id": "9d6091e7",
   "metadata": {},
   "outputs": [
    {
     "name": "stdout",
     "output_type": "stream",
     "text": [
      "Jannik Sinner and Carlos Alcaraz will renew one of tennis’ most captivating rivalries on Sunday at theInternazionali BNL d’Italiain Rome, where they’ll face off for the first time in an ATP Masters 1000 final.\n",
      "\n",
      "Both men are contesting their 25th tour-level final and will walk onto Campo Centrale not before 5:00 p.m. CEST with plenty at stake.\n",
      "\n",
      "JANNIK ⚔️ CARLOSThe dream final is ON! 🎬@InteBNLdItalia|#IBI25pic.twitter.com/JPGGEmGuiB\n",
      "\n",
      "Sinner is making his return to Tour for the first time since he won his third major at the Australian Open in January, but has shown little sign of rust. The No. 1 in the PIF ATP Rankings has just dropped one set en route to the final and delivered a commanding 6-0, 6-1 quarter-final dismantling of Casper Ruud before he recovered from losing the first set 1-6 against Tommy Paul to advance in the semis.\n",
      "\n",
      "Now just one win away from claiming his fifth Masters 1000 crown and first on clay, the 23-year-old is bidding to become only the second Italian in history to triumph in Rome after Adriano Panatta in 1976.\n",
      "\n",
      "But standing in his way is a familiar foe. Alcaraz leads the pair's Lexus ATP Head2Head series 6-4, including wins in their past three encounters. On clay, they’re tied at 1-1: Sinner won the 2022 Umag final, while Alcaraz prevailed in last year’s Roland Garros semi-final en route to the crown.\n",
      "\n",
      "\"We know each other quite well now,\" Sinner said when asked about Alcaraz. \"It's always special to share the court with him. I feel like we both know how to play against each other a little bit, so we have to be prepared tactically. Of course, small things are going to be changed. But it's just a great test for me to see where I am.\n",
      "\n",
      "“It's great for me to play against Carlos before the two Grand Slams. That for me is good because I see where I have to improve, what I have to do better. But hopefully it’s going to be a good match.”\n",
      "\n",
      "Alcaraz, meanwhile, enters the final with the most match wins on Tour in 2025 (29) and is eyeing a Tour-leading third title of the season. Like Sinner, though, the 22-year-old arrived in the Italian capital with question marks after missing his home Masters 1000 event in Madrid due to injury.Any lingering doubts have been put to bed this fortnight, with Alcaraz dispatching Top 10 stars Jack Draper and Lorenzo Musetti en route to his eighth Masters 1000 final (6-1). While Alcaraz is known for his flair and charismatic style, he’s been happy with the maturity he’s shown on court in the Italian capital.\"Sometimes it's difficult because sometimes when I see the ball coming, a lot of things come to my mind. Sometimes it's difficult to choose the right decision,\" Alcaraz said following his semi-final win against Musetti. \"But I'm trying to improve that part of my game, trying not to think too much and do the right things always, even if it is not the brilliant shot or the brilliant decision.\"{{player.PlayerFirstName}}{{player.PlayerLastName}}{{player.PlayerCountryCode}}{{player.PlayerLastName}}{{player.PartnerLastName}}{{player.Record}}Vswins{{opponent.Record}}Show H2H Detail{{opponent.PlayerFirstName}}{{opponent.PlayerLastName}}{{opponent.PlayerCountryCode}}{{ opponent.PlayerLastName }}{{opponent.PartnerLastName}}{{player.Ranking}}Rank{{opponent.Ranking}}{{player.Age ? player.Age : '-'}}Age{{opponent.Age ? opponent.Age : '-'}}Read more from RomeSinner sets Alcaraz Rome final after huge Paul scareAlcaraz fights past Musetti, secures Rome final spotRivalry rekindled: Alcaraz vs. Sinner XIAlcaraz's aim: 'Do the right thing, even if it's not brilliant'What time is the Rome final between Sinner & Alcaraz?What awaits on Sunday is more than just a final — it’s the next chapter in a rivalry that has already delivered some of the most electric tennis of the decade. Sinner, riding a 26-match winning streak according to the Infosys ATP Win/Loss Index, and Alcaraz, always ready for a fight, bring out the best in one another. Their duels don’t just deliver drama — they elevate the sport.“It could be great, I'm not going to lie,\" Alcaraz said. \"He's playing great. I've been watching his matches. His level is really high right now. Every time that I play against him is always a battle, is always really, really tough. I kind of enjoy those moments, as well.\"With both players coming into peak form and hungry for more silverware, Sunday’s final promises not just a battle for the Rome crown, but a possible preview of deeper showdowns to come in Paris and beyond. Their contrasting styles — Sinner’s clinical precision and Alcaraz’s explosive creativity — have already produced some unforgettable clashes, and another chapter in their burgeoning rivalry is ready to be written on one of the sport’s most iconic stages.As the sun sets over the Foro Italico for another year, all eyes will be on Campo Centrale. Two of the game’s brightest stars. One of the biggest titles in tennis. And a rivalry that’s just getting better.Read More NewsView All NewsView Related VideosView All Videos\n",
      "\n",
      "Alcaraz, meanwhile, enters the final with the most match wins on Tour in 2025 (29) and is eyeing a Tour-leading third title of the season. Like Sinner, though, the 22-year-old arrived in the Italian capital with question marks after missing his home Masters 1000 event in Madrid due to injury.\n",
      "\n",
      "Any lingering doubts have been put to bed this fortnight, with Alcaraz dispatching Top 10 stars Jack Draper and Lorenzo Musetti en route to his eighth Masters 1000 final (6-1). While Alcaraz is known for his flair and charismatic style, he’s been happy with the maturity he’s shown on court in the Italian capital.\n",
      "\n",
      "\"Sometimes it's difficult because sometimes when I see the ball coming, a lot of things come to my mind. Sometimes it's difficult to choose the right decision,\" Alcaraz said following his semi-final win against Musetti. \"But I'm trying to improve that part of my game, trying not to think too much and do the right things always, even if it is not the brilliant shot or the brilliant decision.\"\n",
      "\n",
      "Read more from RomeSinner sets Alcaraz Rome final after huge Paul scareAlcaraz fights past Musetti, secures Rome final spotRivalry rekindled: Alcaraz vs. Sinner XIAlcaraz's aim: 'Do the right thing, even if it's not brilliant'What time is the Rome final between Sinner & Alcaraz?\n",
      "\n",
      "What awaits on Sunday is more than just a final — it’s the next chapter in a rivalry that has already delivered some of the most electric tennis of the decade. Sinner, riding a 26-match winning streak according to the Infosys ATP Win/Loss Index, and Alcaraz, always ready for a fight, bring out the best in one another. Their duels don’t just deliver drama — they elevate the sport.\n",
      "\n",
      "“It could be great, I'm not going to lie,\" Alcaraz said. \"He's playing great. I've been watching his matches. His level is really high right now. Every time that I play against him is always a battle, is always really, really tough. I kind of enjoy those moments, as well.\"\n",
      "\n",
      "\n",
      "\n",
      "With both players coming into peak form and hungry for more silverware, Sunday’s final promises not just a battle for the Rome crown, but a possible preview of deeper showdowns to come in Paris and beyond. Their contrasting styles — Sinner’s clinical precision and Alcaraz’s explosive creativity — have already produced some unforgettable clashes, and another chapter in their burgeoning rivalry is ready to be written on one of the sport’s most iconic stages.\n",
      "\n",
      "As the sun sets over the Foro Italico for another year, all eyes will be on Campo Centrale. Two of the game’s brightest stars. One of the biggest titles in tennis. And a rivalry that’s just getting better.\n",
      "\n",
      "\n"
     ]
    }
   ],
   "source": [
    "url = 'https://www.atptour.com/en/news/sinner-alcaraz-rome-2025-final-preview'\n",
    "\n",
    "response = requests.get(url, headers=HEADERS)\n",
    "response.raise_for_status()\n",
    "soup = BeautifulSoup(response.text, 'html.parser')\n",
    "\n",
    "article_text = get_text_from_article(soup)\n",
    "print(article_text)"
   ]
  },
  {
   "cell_type": "code",
   "execution_count": 17,
   "id": "72658556",
   "metadata": {},
   "outputs": [],
   "source": [
    "url = 'https://www.atptour.com/en/news/news-filter-results'\n",
    "response = requests.get(url, headers=HEADERS)\n",
    "response.raise_for_status()\n",
    "soup = BeautifulSoup(response.text, 'html.parser')"
   ]
  },
  {
   "cell_type": "code",
   "execution_count": 28,
   "id": "78a93f8a",
   "metadata": {},
   "outputs": [
    {
     "data": {
      "text/plain": [
       "[<div :class=\"newsrow.videoId.length === 0 &amp;&amp; newsrow.hasVideo ? 'image--video' : ''\" class=\"image\">\n",
       " <img :src=\"newsrow.image\" alt=\"\"/>\n",
       " <div class=\"cta\" v-if=\"newsrow.videoId !== ''\">\n",
       " <div class=\"cta-video\">\n",
       " <svg fill=\"none\" viewbox=\"0 0 8 10\" xmlns=\"http://www.w3.org/2000/svg\">\n",
       " <path clip-rule=\"evenodd\" d=\"M7.66634 4.99992L0.333008 9.66659V0.333252L7.66634 4.99992ZM5.17967 4.99992L1.66634 2.75992V7.23992L5.17967 4.99992Z\" fill=\"white\" fill-rule=\"evenodd\"></path>\n",
       " </svg>\n",
       " </div>\n",
       " </div>\n",
       " </div>,\n",
       " <div :class=\"newsitem.videoId.length === 0 &amp;&amp; newsitem.hasVideo ? 'image--video' : ''\" class=\"image\">\n",
       " <img :alt=\"newsitem.title\" :src=\"newsitem.videoId.length &gt; 0 ? `${newsitem.videoPosterImage}` : `${newsitem.image}`\"/>\n",
       " </div>,\n",
       " <div :class=\"newsitem.videoId.length === 0 &amp;&amp; newsitem.hasVideo ? 'image--video' : ''\" class=\"image\">\n",
       " <img :alt=\"newsitem.title\" :src=\"newsitem.videoId.length &gt; 0 ? `${newsitem.videoPreviewImage}` : `${newsitem.image}`\"/>\n",
       " </div>]"
      ]
     },
     "execution_count": 28,
     "metadata": {},
     "output_type": "execute_result"
    }
   ],
   "source": [
    "news_filter_div = soup.find_all('div', class_='image')\n",
    "news_filter_div\n",
    "# news_rows = news_filter_div.find_all('div', class_='news-row')\n",
    "# for row in news_rows:\n",
    "#     print(news_rows)"
   ]
  },
  {
   "cell_type": "code",
   "execution_count": 47,
   "id": "b4ba4d42",
   "metadata": {},
   "outputs": [
    {
     "name": "stdout",
     "output_type": "stream",
     "text": [
      "{'title': 'Sinner erases double-break deficit to seal straight-sets Roland Garros win', 'link': '/en/news/sinner-rinderknech-roland-garros-2025-monday'}\n",
      "{'title': 'What is the Roland Garros tennis schedule?', 'link': '/en/news/roland-garros-2025-schedule'}\n",
      "{'title': \"Fritz rues 'horrendous tennis on important points' in Roland Garros defeat\", 'link': '/en/news/fritz-roland-garros-monday-2025-reaction'}\n",
      "{'title': \"Djokovic: 'I had a lot of concerns' before winning 100th title in Geneva\", 'link': '/en/news/djokovic-roland-garros-press-preview-2025'}\n",
      "{'title': 'Altmaier upsets Fritz at Roland Garros', 'link': '/en/news/altmaier-fritz-roland-garros-2025-monday'}\n",
      "{'title': 'Alcaraz springs Roland Garros title defence into action', 'link': '/en/news/alcaraz-zeppieri-roland-garros-2025-monday'}\n",
      "{'title': 'Ruud stays perfect in Roland Garros openers', 'link': '/en/news/ruud-ramos-vinolas-roland-garros-2025-monday'}\n",
      "{'title': 'Cobolli surges to career high, Mover of Week', 'link': '/en/news/cobolli-pif-atp-rankings-26-may-2025'}\n",
      "{'title': \"Briton Clarke returns to Challenger winner's circle; #NextGenATP Cina upset\", 'link': '/en/news/tbilisi-skopje-challenger-2025-final'}\n",
      "{'title': \"Gasquet's final farewell: Bidding adieu to tennis' French artiste\", 'link': '/en/news/richard-gasquet-retirement-tribute-2025'}\n",
      "{'title': \"Atmane: How self-belief allowed me to become a 'different person'\", 'link': '/en/news/atmane-roland-garros-2025-feature'}\n",
      "{'title': 'Eyes closed for Alcaraz before his Roland Garros opener', 'link': '/en/news/alcaraz-roland-garros-2025-eyes-closed'}\n",
      "{'title': \"'A coach, a father, and a friend': Inside Christian Ruud's journey alongside Casper\", 'link': '/en/news/christian-ruud-coach-spotlight-may-2025'}\n",
      "{'title': 'Shelton defeats Sonego in late-night Roland Garros five-setter', 'link': '/en/news/shelton-sonego-roland-garros-2025-sunday'}\n",
      "{'title': \"Nadal reflects on Roland Garros tribute: 'It's impossible to describe in words'\", 'link': '/en/news/nadal-reaction-roland-garros-2025'}\n",
      "{'title': 'Sinner erases double-break deficit to seal straight-sets Roland Garros win', 'link': '/en/news/sinner-rinderknech-roland-garros-2025-monday'}\n",
      "{'title': 'What is the Roland Garros tennis schedule?', 'link': '/en/news/roland-garros-2025-schedule'}\n",
      "{'title': \"Fritz rues 'horrendous tennis on important points' in Roland Garros defeat\", 'link': '/en/news/fritz-roland-garros-monday-2025-reaction'}\n",
      "{'title': \"Djokovic: 'I had a lot of concerns' before winning 100th title in Geneva\", 'link': '/en/news/djokovic-roland-garros-press-preview-2025'}\n",
      "{'title': 'Altmaier upsets Fritz at Roland Garros', 'link': '/en/news/altmaier-fritz-roland-garros-2025-monday'}\n"
     ]
    }
   ],
   "source": [
    "from selenium import webdriver\n",
    "from bs4 import BeautifulSoup\n",
    "import time\n",
    "\n",
    "driver = webdriver.Chrome()  # Or use Firefox, Edge, etc.\n",
    "driver.get(\"https://www.atptour.com/en/news/news-filter-results\")  # Replace with actual URL\n",
    "\n",
    "# Wait for content to load\n",
    "time.sleep(5)  # Or use WebDriverWait for more robust waiting\n",
    "\n",
    "# Get the rendered HTML\n",
    "html = driver.page_source\n",
    "soup = BeautifulSoup(html, 'html.parser')\n",
    "\n",
    "articles = get_articles(soup)\n",
    "for a in articles:\n",
    "    print(a)"
   ]
  }
 ],
 "metadata": {
  "kernelspec": {
   "display_name": "tennis",
   "language": "python",
   "name": "python3"
  },
  "language_info": {
   "codemirror_mode": {
    "name": "ipython",
    "version": 3
   },
   "file_extension": ".py",
   "mimetype": "text/x-python",
   "name": "python",
   "nbconvert_exporter": "python",
   "pygments_lexer": "ipython3",
   "version": "3.12.9"
  }
 },
 "nbformat": 4,
 "nbformat_minor": 5
}
